{
 "cells": [
  {
   "cell_type": "markdown",
   "id": "f2618292",
   "metadata": {},
   "source": [
    "Group Project Proposal"
   ]
  },
  {
   "cell_type": "markdown",
   "id": "bc333e35",
   "metadata": {},
   "source": [
    "Each proposal should include the following sections:"
   ]
  },
  {
   "cell_type": "markdown",
   "id": "6d0fb4c0",
   "metadata": {},
   "source": [
    "Title:"
   ]
  },
  {
   "cell_type": "markdown",
   "id": "8c8d085a",
   "metadata": {},
   "source": [
    "Introduction:\n",
    "Provide some relevant background information on the topic so that someone unfamiliar with it will be prepared to understand the rest of your proposal\n",
    "Clearly state the question you will try to answer with your project\n",
    "Identify and describe the dataset that will be used to answer the question\n"
   ]
  },
  {
   "cell_type": "markdown",
   "id": "9c942648",
   "metadata": {},
   "source": [
    "For the group project, we will be working with the Dry Bean Dataset. This dataset contains information on 7 different Dry beans. Images of over 13,000 grains were taken by a high-resolution camera. Based on these images, data was recorded for 16 features such as area, perimeter, aspect ration, etc. For our proposal, we will be attempting to classifying new grains into one of the seven dry bean categories."
   ]
  },
  {
   "cell_type": "markdown",
   "id": "981f1097",
   "metadata": {},
   "source": [
    "Preliminary exploratory data analysis:\n",
    "Demonstrate that the dataset can be read from the web into R \n",
    "Clean and wrangle your data into a tidy format\n",
    "Using only training data, summarize the data in at least one table (this is exploratory data analysis). An example of a useful table could be one that \n",
    "reports the number of observations in each class, the means of the predictor variables you plan to use in your analysis and how many rows have missing data. \n",
    "Using only training data, visualize the data with at least one plot relevant to the analysis you plan to do (this is exploratory data analysis). An example of a useful visualization could be one that compares the distributions of each of the predictor variables you plan to use in your analysis."
   ]
  },
  {
   "cell_type": "code",
   "execution_count": 65,
   "id": "95273899",
   "metadata": {},
   "outputs": [],
   "source": [
    "library(tidyverse)\n",
    "library(readr)\n",
    "library(repr)\n",
    "library(tidymodels)\n",
    "library(readxl)\n",
    "library(gridExtra)\n",
    "options(repr.matrix.max..rows = 6)\n",
    "set.seed(99999)"
   ]
  },
  {
   "cell_type": "code",
   "execution_count": 70,
   "id": "d920d00a",
   "metadata": {},
   "outputs": [
    {
     "data": {
      "text/html": [
       "<table class=\"dataframe\">\n",
       "<caption>A tibble: 7 × 8</caption>\n",
       "<thead>\n",
       "\t<tr><th scope=col>Class</th><th scope=col>mean(Area)</th><th scope=col>mean(Perimeter)</th><th scope=col>mean(AspectRation)</th><th scope=col>mean(ConvexArea)</th><th scope=col>mean(roundness)</th><th scope=col>mean(Solidity)</th><th scope=col>count</th></tr>\n",
       "\t<tr><th scope=col>&lt;fct&gt;</th><th scope=col>&lt;dbl&gt;</th><th scope=col>&lt;dbl&gt;</th><th scope=col>&lt;dbl&gt;</th><th scope=col>&lt;dbl&gt;</th><th scope=col>&lt;dbl&gt;</th><th scope=col>&lt;dbl&gt;</th><th scope=col>&lt;int&gt;</th></tr>\n",
       "</thead>\n",
       "<tbody>\n",
       "\t<tr><td>SEKER   </td><td> 39879.47</td><td> 727.6172</td><td>1.245980</td><td> 40266.72</td><td>0.9446568</td><td>0.9903743</td><td>1518</td></tr>\n",
       "\t<tr><td>BARBUNYA</td><td> 69839.39</td><td>1046.6020</td><td>1.546510</td><td> 71063.16</td><td>0.7997642</td><td>0.9827947</td><td> 998</td></tr>\n",
       "\t<tr><td>BOMBAY  </td><td>173642.24</td><td>1586.0373</td><td>1.582001</td><td>176002.10</td><td>0.8645834</td><td>0.9867515</td><td> 395</td></tr>\n",
       "\t<tr><td>CALI    </td><td> 75607.51</td><td>1057.7809</td><td>1.732876</td><td> 76746.06</td><td>0.8464261</td><td>0.9851820</td><td>1217</td></tr>\n",
       "\t<tr><td>HOROZ   </td><td> 53637.42</td><td> 919.8969</td><td>2.024967</td><td> 54432.81</td><td>0.7942120</td><td>0.9854035</td><td>1449</td></tr>\n",
       "\t<tr><td>SIRA    </td><td> 44765.25</td><td> 796.8189</td><td>1.570029</td><td> 45307.21</td><td>0.8844943</td><td>0.9880213</td><td>1981</td></tr>\n",
       "\t<tr><td>DERMASON</td><td> 32139.35</td><td> 665.3863</td><td>1.490398</td><td> 32517.66</td><td>0.9082010</td><td>0.9882726</td><td>2649</td></tr>\n",
       "</tbody>\n",
       "</table>\n"
      ],
      "text/latex": [
       "A tibble: 7 × 8\n",
       "\\begin{tabular}{llllllll}\n",
       " Class & mean(Area) & mean(Perimeter) & mean(AspectRation) & mean(ConvexArea) & mean(roundness) & mean(Solidity) & count\\\\\n",
       " <fct> & <dbl> & <dbl> & <dbl> & <dbl> & <dbl> & <dbl> & <int>\\\\\n",
       "\\hline\n",
       "\t SEKER    &  39879.47 &  727.6172 & 1.245980 &  40266.72 & 0.9446568 & 0.9903743 & 1518\\\\\n",
       "\t BARBUNYA &  69839.39 & 1046.6020 & 1.546510 &  71063.16 & 0.7997642 & 0.9827947 &  998\\\\\n",
       "\t BOMBAY   & 173642.24 & 1586.0373 & 1.582001 & 176002.10 & 0.8645834 & 0.9867515 &  395\\\\\n",
       "\t CALI     &  75607.51 & 1057.7809 & 1.732876 &  76746.06 & 0.8464261 & 0.9851820 & 1217\\\\\n",
       "\t HOROZ    &  53637.42 &  919.8969 & 2.024967 &  54432.81 & 0.7942120 & 0.9854035 & 1449\\\\\n",
       "\t SIRA     &  44765.25 &  796.8189 & 1.570029 &  45307.21 & 0.8844943 & 0.9880213 & 1981\\\\\n",
       "\t DERMASON &  32139.35 &  665.3863 & 1.490398 &  32517.66 & 0.9082010 & 0.9882726 & 2649\\\\\n",
       "\\end{tabular}\n"
      ],
      "text/markdown": [
       "\n",
       "A tibble: 7 × 8\n",
       "\n",
       "| Class &lt;fct&gt; | mean(Area) &lt;dbl&gt; | mean(Perimeter) &lt;dbl&gt; | mean(AspectRation) &lt;dbl&gt; | mean(ConvexArea) &lt;dbl&gt; | mean(roundness) &lt;dbl&gt; | mean(Solidity) &lt;dbl&gt; | count &lt;int&gt; |\n",
       "|---|---|---|---|---|---|---|---|\n",
       "| SEKER    |  39879.47 |  727.6172 | 1.245980 |  40266.72 | 0.9446568 | 0.9903743 | 1518 |\n",
       "| BARBUNYA |  69839.39 | 1046.6020 | 1.546510 |  71063.16 | 0.7997642 | 0.9827947 |  998 |\n",
       "| BOMBAY   | 173642.24 | 1586.0373 | 1.582001 | 176002.10 | 0.8645834 | 0.9867515 |  395 |\n",
       "| CALI     |  75607.51 | 1057.7809 | 1.732876 |  76746.06 | 0.8464261 | 0.9851820 | 1217 |\n",
       "| HOROZ    |  53637.42 |  919.8969 | 2.024967 |  54432.81 | 0.7942120 | 0.9854035 | 1449 |\n",
       "| SIRA     |  44765.25 |  796.8189 | 1.570029 |  45307.21 | 0.8844943 | 0.9880213 | 1981 |\n",
       "| DERMASON |  32139.35 |  665.3863 | 1.490398 |  32517.66 | 0.9082010 | 0.9882726 | 2649 |\n",
       "\n"
      ],
      "text/plain": [
       "  Class    mean(Area) mean(Perimeter) mean(AspectRation) mean(ConvexArea)\n",
       "1 SEKER     39879.47   727.6172       1.245980            40266.72       \n",
       "2 BARBUNYA  69839.39  1046.6020       1.546510            71063.16       \n",
       "3 BOMBAY   173642.24  1586.0373       1.582001           176002.10       \n",
       "4 CALI      75607.51  1057.7809       1.732876            76746.06       \n",
       "5 HOROZ     53637.42   919.8969       2.024967            54432.81       \n",
       "6 SIRA      44765.25   796.8189       1.570029            45307.21       \n",
       "7 DERMASON  32139.35   665.3863       1.490398            32517.66       \n",
       "  mean(roundness) mean(Solidity) count\n",
       "1 0.9446568       0.9903743      1518 \n",
       "2 0.7997642       0.9827947       998 \n",
       "3 0.8645834       0.9867515       395 \n",
       "4 0.8464261       0.9851820      1217 \n",
       "5 0.7942120       0.9854035      1449 \n",
       "6 0.8844943       0.9880213      1981 \n",
       "7 0.9082010       0.9882726      2649 "
      ]
     },
     "metadata": {},
     "output_type": "display_data"
    }
   ],
   "source": [
    "\n",
    "url <- \"https://github.com/Adrianna-Nimmons/dsci-100-project-group51/raw/main/beans.xlsx\"\n",
    "download.file(url, \"beans.xlsx\")\n",
    "beans_data <- read_excel(\"beans.xlsx\")\n",
    "beans_data <- mutate(beans_data, Class = as_factor(Class))\n",
    "beans_split <- initial_split(beans_data, prop = 0.75, strata = Class)\n",
    "beans_training <- training(beans_split)\n",
    "beans_testing <- testing(beans_split)\n",
    "new_table_1<- beans_training |>\n",
    "            group_by(Class)|>\n",
    "            # summarize(count=n())\n",
    "             summarize(mean(Area), mean(Perimeter), mean(AspectRation), mean(ConvexArea), mean(roundness), mean(Solidity), count=n())\n",
    "new_table_1"
   ]
  },
  {
   "cell_type": "code",
   "execution_count": null,
   "id": "136eef40",
   "metadata": {},
   "outputs": [],
   "source": [
    "Methods:\n",
    "Explain how you will conduct either your data analysis and which variables/columns you will use. Note - you do not need to use all variables/columns that exist \n",
    "in the raw data set. In fact, that's often not a good idea. For each variable think: is this a useful variable for prediction?\n",
    "Describe at least one way that you will visualize the results"
   ]
  },
  {
   "cell_type": "code",
   "execution_count": null,
   "id": "8020d077",
   "metadata": {},
   "outputs": [],
   "source": [
    "Expected outcomes and significance:\n",
    "What do you expect to find?\n",
    "What impact could such findings have?\n",
    "What future questions could this lead to?"
   ]
  },
  {
   "cell_type": "code",
   "execution_count": null,
   "id": "dfbf5f13",
   "metadata": {},
   "outputs": [],
   "source": [
    "Please submit your group project proposal. Only one member of your team needs to submit. "
   ]
  }
 ],
 "metadata": {
  "kernelspec": {
   "display_name": "R",
   "language": "R",
   "name": "ir"
  },
  "language_info": {
   "codemirror_mode": "r",
   "file_extension": ".r",
   "mimetype": "text/x-r-source",
   "name": "R",
   "pygments_lexer": "r",
   "version": "4.1.3"
  }
 },
 "nbformat": 4,
 "nbformat_minor": 5
}
