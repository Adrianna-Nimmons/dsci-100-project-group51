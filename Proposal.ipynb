{
 "cells": [
  {
   "cell_type": "markdown",
   "id": "cfe3b952-2705-4d8d-8a0c-60dfae0a0253",
   "metadata": {},
   "source": [
    "Group Project Proposal"
   ]
  },
  {
   "cell_type": "markdown",
   "id": "ab8f3afb-22cc-4227-91b6-8ad62223c251",
   "metadata": {},
   "source": [
    "Each proposal should include the following sections:"
   ]
  },
  {
   "cell_type": "markdown",
   "id": "f9752051-366d-48c1-ba1f-c6cf2d166baa",
   "metadata": {},
   "source": [
    "Title:"
   ]
  },
  {
   "cell_type": "markdown",
   "id": "bc716258-c728-481f-8bcc-5c6eecfa8852",
   "metadata": {},
   "source": [
    "Introduction:\n",
    "Provide some relevant background information on the topic so that someone unfamiliar with it will be prepared to understand the rest of your proposal\n",
    "Clearly state the question you will try to answer with your project\n",
    "Identify and describe the dataset that will be used to answer the question\n"
   ]
  },
  {
   "cell_type": "markdown",
   "id": "ce1a3ae2-b9ca-48ab-81f3-5598edbea130",
   "metadata": {},
   "source": [
    "For the group project, we will be working with the Dry Bean Dataset. This dataset contains information on 7 different Dry beans. Images of over 13,000 grains were taken by a high-resolution camera. Based on these images, data was recorded for 16 features such as area, perimeter, aspect ration, etc. For our proposal, we will be attempting to classifying new grains into one of the seven dry bean categories."
   ]
  },
  {
   "cell_type": "markdown",
   "id": "abb21513-db28-4bbc-9bc0-2ac67d2f0f83",
   "metadata": {},
   "source": [
    "Preliminary exploratory data analysis:\n",
    "Demonstrate that the dataset can be read from the web into R \n",
    "Clean and wrangle your data into a tidy format\n",
    "Using only training data, summarize the data in at least one table (this is exploratory data analysis). An example of a useful table could be one that \n",
    "reports the number of observations in each class, the means of the predictor variables you plan to use in your analysis and how many rows have missing data. \n",
    "Using only training data, visualize the data with at least one plot relevant to the analysis you plan to do (this is exploratory data analysis). An example of a useful visualization could be one that compares the distributions of each of the predictor variables you plan to use in your analysis."
   ]
  },
  {
   "cell_type": "code",
   "execution_count": 65,
   "id": "6010a3a4-a512-4edf-96d5-04101fb54aac",
   "metadata": {},
   "outputs": [],
   "source": [
    "library(tidyverse)\n",
    "library(readr)\n",
    "library(repr)\n",
    "library(tidymodels)\n",
    "library(readxl)\n",
    "library(gridExtra)\n",
    "options(repr.matrix.max..rows = 6)\n",
    "set.seed(99999)"
   ]
  },
  {
   "cell_type": "code",
   "execution_count": 74,
   "id": "57ff0a6a-68d8-4612-8bf8-79b12def3b79",
   "metadata": {},
   "outputs": [
    {
     "data": {
      "text/html": [
       "<table class=\"dataframe\">\n",
       "<caption>A tibble: 7 × 8</caption>\n",
       "<thead>\n",
       "\t<tr><th scope=col>Class</th><th scope=col>Mean_Shape_Factor_1</th><th scope=col>Mean_Shape_Factor_2</th><th scope=col>Mean_Equivalent_Diameter</th><th scope=col>Mean_Minor_Axis_Length</th><th scope=col>Mean_Convex_Area</th><th scope=col>Mean_Roundness</th><th scope=col>count</th></tr>\n",
       "\t<tr><th scope=col>&lt;fct&gt;</th><th scope=col>&lt;dbl&gt;</th><th scope=col>&lt;dbl&gt;</th><th scope=col>&lt;dbl&gt;</th><th scope=col>&lt;dbl&gt;</th><th scope=col>&lt;dbl&gt;</th><th scope=col>&lt;dbl&gt;</th><th scope=col>&lt;int&gt;</th></tr>\n",
       "</thead>\n",
       "<tbody>\n",
       "\t<tr><td>SEKER   </td><td>0.006328119</td><td>0.0025389636</td><td>225.1469</td><td>202.1151</td><td> 40340.67</td><td>0.9449089</td><td>1516</td></tr>\n",
       "\t<tr><td>BARBUNYA</td><td>0.005352948</td><td>0.0013893025</td><td>297.7567</td><td>240.5535</td><td> 71233.71</td><td>0.8006152</td><td> 994</td></tr>\n",
       "\t<tr><td>BOMBAY  </td><td>0.003440613</td><td>0.0008440573</td><td>469.1202</td><td>374.5214</td><td>175931.25</td><td>0.8647418</td><td> 394</td></tr>\n",
       "\t<tr><td>CALI    </td><td>0.005471277</td><td>0.0011106599</td><td>308.8102</td><td>235.8074</td><td> 76331.63</td><td>0.8456865</td><td>1233</td></tr>\n",
       "\t<tr><td>HOROZ   </td><td>0.007001509</td><td>0.0010462314</td><td>260.9238</td><td>184.3236</td><td> 54518.53</td><td>0.7951723</td><td>1443</td></tr>\n",
       "\t<tr><td>SIRA    </td><td>0.006720676</td><td>0.0016843628</td><td>238.2532</td><td>190.7811</td><td> 45242.96</td><td>0.8848007</td><td>1975</td></tr>\n",
       "\t<tr><td>DERMASON</td><td>0.007742423</td><td>0.0021573573</td><td>202.0062</td><td>165.9256</td><td> 32600.13</td><td>0.9085252</td><td>2652</td></tr>\n",
       "</tbody>\n",
       "</table>\n"
      ],
      "text/latex": [
       "A tibble: 7 × 8\n",
       "\\begin{tabular}{llllllll}\n",
       " Class & Mean\\_Shape\\_Factor\\_1 & Mean\\_Shape\\_Factor\\_2 & Mean\\_Equivalent\\_Diameter & Mean\\_Minor\\_Axis\\_Length & Mean\\_Convex\\_Area & Mean\\_Roundness & count\\\\\n",
       " <fct> & <dbl> & <dbl> & <dbl> & <dbl> & <dbl> & <dbl> & <int>\\\\\n",
       "\\hline\n",
       "\t SEKER    & 0.006328119 & 0.0025389636 & 225.1469 & 202.1151 &  40340.67 & 0.9449089 & 1516\\\\\n",
       "\t BARBUNYA & 0.005352948 & 0.0013893025 & 297.7567 & 240.5535 &  71233.71 & 0.8006152 &  994\\\\\n",
       "\t BOMBAY   & 0.003440613 & 0.0008440573 & 469.1202 & 374.5214 & 175931.25 & 0.8647418 &  394\\\\\n",
       "\t CALI     & 0.005471277 & 0.0011106599 & 308.8102 & 235.8074 &  76331.63 & 0.8456865 & 1233\\\\\n",
       "\t HOROZ    & 0.007001509 & 0.0010462314 & 260.9238 & 184.3236 &  54518.53 & 0.7951723 & 1443\\\\\n",
       "\t SIRA     & 0.006720676 & 0.0016843628 & 238.2532 & 190.7811 &  45242.96 & 0.8848007 & 1975\\\\\n",
       "\t DERMASON & 0.007742423 & 0.0021573573 & 202.0062 & 165.9256 &  32600.13 & 0.9085252 & 2652\\\\\n",
       "\\end{tabular}\n"
      ],
      "text/markdown": [
       "\n",
       "A tibble: 7 × 8\n",
       "\n",
       "| Class &lt;fct&gt; | Mean_Shape_Factor_1 &lt;dbl&gt; | Mean_Shape_Factor_2 &lt;dbl&gt; | Mean_Equivalent_Diameter &lt;dbl&gt; | Mean_Minor_Axis_Length &lt;dbl&gt; | Mean_Convex_Area &lt;dbl&gt; | Mean_Roundness &lt;dbl&gt; | count &lt;int&gt; |\n",
       "|---|---|---|---|---|---|---|---|\n",
       "| SEKER    | 0.006328119 | 0.0025389636 | 225.1469 | 202.1151 |  40340.67 | 0.9449089 | 1516 |\n",
       "| BARBUNYA | 0.005352948 | 0.0013893025 | 297.7567 | 240.5535 |  71233.71 | 0.8006152 |  994 |\n",
       "| BOMBAY   | 0.003440613 | 0.0008440573 | 469.1202 | 374.5214 | 175931.25 | 0.8647418 |  394 |\n",
       "| CALI     | 0.005471277 | 0.0011106599 | 308.8102 | 235.8074 |  76331.63 | 0.8456865 | 1233 |\n",
       "| HOROZ    | 0.007001509 | 0.0010462314 | 260.9238 | 184.3236 |  54518.53 | 0.7951723 | 1443 |\n",
       "| SIRA     | 0.006720676 | 0.0016843628 | 238.2532 | 190.7811 |  45242.96 | 0.8848007 | 1975 |\n",
       "| DERMASON | 0.007742423 | 0.0021573573 | 202.0062 | 165.9256 |  32600.13 | 0.9085252 | 2652 |\n",
       "\n"
      ],
      "text/plain": [
       "  Class    Mean_Shape_Factor_1 Mean_Shape_Factor_2 Mean_Equivalent_Diameter\n",
       "1 SEKER    0.006328119         0.0025389636        225.1469                \n",
       "2 BARBUNYA 0.005352948         0.0013893025        297.7567                \n",
       "3 BOMBAY   0.003440613         0.0008440573        469.1202                \n",
       "4 CALI     0.005471277         0.0011106599        308.8102                \n",
       "5 HOROZ    0.007001509         0.0010462314        260.9238                \n",
       "6 SIRA     0.006720676         0.0016843628        238.2532                \n",
       "7 DERMASON 0.007742423         0.0021573573        202.0062                \n",
       "  Mean_Minor_Axis_Length Mean_Convex_Area Mean_Roundness count\n",
       "1 202.1151                40340.67        0.9449089      1516 \n",
       "2 240.5535                71233.71        0.8006152       994 \n",
       "3 374.5214               175931.25        0.8647418       394 \n",
       "4 235.8074                76331.63        0.8456865      1233 \n",
       "5 184.3236                54518.53        0.7951723      1443 \n",
       "6 190.7811                45242.96        0.8848007      1975 \n",
       "7 165.9256                32600.13        0.9085252      2652 "
      ]
     },
     "metadata": {},
     "output_type": "display_data"
    }
   ],
   "source": [
    "\n",
    "url <- \"https://github.com/Adrianna-Nimmons/dsci-100-project-group51/raw/main/beans.xlsx\"\n",
    "download.file(url, \"beans.xlsx\")\n",
    "beans_data <- read_excel(\"beans.xlsx\")\n",
    "beans_data <- mutate(beans_data, Class = as_factor(Class))\n",
    "beans_split <- initial_split(beans_data, prop = 0.75, strata = Class)\n",
    "beans_training <- training(beans_split)\n",
    "beans_testing <- testing(beans_split)\n",
    "new_table_1<- beans_training |>\n",
    "            group_by(Class)|>\n",
    "            # summarize(count=n())\n",
    "             summarize(Mean_Shape_Factor_1 = mean(ShapeFactor1), Mean_Shape_Factor_2 = mean(ShapeFactor2),Mean_Equivalent_Diameter = mean(EquivDiameter), Mean_Minor_Axis_Length = mean(MinorAxisLength), Mean_Convex_Area = mean(ConvexArea), Mean_Roundness = mean(roundness),count=n())\n",
    "new_table_1"
   ]
  },
  {
   "cell_type": "code",
   "execution_count": null,
   "id": "d9049ed1-7ed6-49b9-a65a-423a1f103887",
   "metadata": {},
   "outputs": [],
   "source": [
    "Methods:\n",
    "Explain how you will conduct either your data analysis and which variables/columns you will use. Note - you do not need to use all variables/columns that exist \n",
    "in the raw data set. In fact, that's often not a good idea. For each variable think: is this a useful variable for prediction?\n",
    "Describe at least one way that you will visualize the results"
   ]
  },
  {
   "cell_type": "code",
   "execution_count": null,
   "id": "93972c12-b0eb-43c0-a53c-d451a3753c92",
   "metadata": {},
   "outputs": [],
   "source": [
    "Expected outcomes and significance:\n",
    "What do you expect to find?\n",
    "What impact could such findings have?\n",
    "What future questions could this lead to?"
   ]
  },
  {
   "cell_type": "code",
   "execution_count": null,
   "id": "68f422a0-7d90-4102-8090-b9751f059ebc",
   "metadata": {},
   "outputs": [],
   "source": [
    "Please submit your group project proposal. Only one member of your team needs to submit. "
   ]
  },
  {
   "cell_type": "markdown",
   "id": "860dd93a-6838-4d99-9da8-7266d959acc7",
   "metadata": {},
   "source": [
    "what do you expect to find?\n",
    "\n",
    "We will find which characteristics best fit the 7 different type of dry beans in order to catorgize them. We expect that each type of bean will have significant differences in features when compared to the other bean types that will allow identification of the bean type. \n",
    "\n",
    "ShapeFactor2, Minor Axis Length, and ShapeFactor1 along with EquivDiameter, Roundness and ConvexArea"
   ]
  }
 ],
 "metadata": {
  "kernelspec": {
   "display_name": "R",
   "language": "R",
   "name": "ir"
  },
  "language_info": {
   "codemirror_mode": "r",
   "file_extension": ".r",
   "mimetype": "text/x-r-source",
   "name": "R",
   "pygments_lexer": "r",
   "version": "4.1.3"
  }
 },
 "nbformat": 4,
 "nbformat_minor": 5
}
