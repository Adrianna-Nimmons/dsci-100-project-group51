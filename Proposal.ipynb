{
 "cells": [
  {
   "cell_type": "markdown",
   "id": "cfe3b952-2705-4d8d-8a0c-60dfae0a0253",
   "metadata": {},
   "source": [
    "Group Project Proposal"
   ]
  },
  {
   "cell_type": "markdown",
   "id": "ab8f3afb-22cc-4227-91b6-8ad62223c251",
   "metadata": {},
   "source": [
    "Each proposal should include the following sections:"
   ]
  },
  {
   "cell_type": "markdown",
   "id": "f9752051-366d-48c1-ba1f-c6cf2d166baa",
   "metadata": {},
   "source": [
    "Title:"
   ]
  },
  {
   "cell_type": "markdown",
   "id": "bc716258-c728-481f-8bcc-5c6eecfa8852",
   "metadata": {},
   "source": [
    "Introduction:\n",
    "Provide some relevant background information on the topic so that someone unfamiliar with it will be prepared to understand the rest of your proposal\n",
    "Clearly state the question you will try to answer with your project\n",
    "Identify and describe the dataset that will be used to answer the question\n"
   ]
  },
  {
   "cell_type": "markdown",
   "id": "ce1a3ae2-b9ca-48ab-81f3-5598edbea130",
   "metadata": {},
   "source": [
    "For the group project, we will be working with the Dry Bean Dataset. This dataset contains information on 7 different Dry beans. Images of over 13,000 grains were taken by a high-resolution camera. Based on these images, data was recorded for 16 features such as area, perimeter, aspect ration, etc. For our proposal, we will be attempting to classifying new grains into one of the seven dry bean categories."
   ]
  },
  {
   "cell_type": "markdown",
   "id": "abb21513-db28-4bbc-9bc0-2ac67d2f0f83",
   "metadata": {},
   "source": [
    "Preliminary exploratory data analysis:\n",
    "Demonstrate that the dataset can be read from the web into R \n",
    "Clean and wrangle your data into a tidy format\n",
    "Using only training data, summarize the data in at least one table (this is exploratory data analysis). An example of a useful table could be one that \n",
    "reports the number of observations in each class, the means of the predictor variables you plan to use in your analysis and how many rows have missing data. \n",
    "Using only training data, visualize the data with at least one plot relevant to the analysis you plan to do (this is exploratory data analysis). An example of a useful visualization could be one that compares the distributions of each of the predictor variables you plan to use in your analysis."
   ]
  },
  {
   "cell_type": "code",
   "execution_count": 17,
   "id": "6010a3a4-a512-4edf-96d5-04101fb54aac",
   "metadata": {},
   "outputs": [],
   "source": [
    "library(tidyverse)\n",
    "library(readr)\n",
    "library(repr)\n",
    "library(tidymodels)\n",
    "library(readxl)\n",
    "library(gridExtra)\n",
    "options(repr.matrix.max..rows = 6)\n",
    "set.seed(99999)"
   ]
  },
  {
   "cell_type": "code",
   "execution_count": 20,
   "id": "57ff0a6a-68d8-4612-8bf8-79b12def3b79",
   "metadata": {},
   "outputs": [
    {
     "data": {
      "text/html": [
       "<table class=\"dataframe\">\n",
       "<caption>A tibble: 7 × 2</caption>\n",
       "<thead>\n",
       "\t<tr><th scope=col>Class</th><th scope=col>count</th></tr>\n",
       "\t<tr><th scope=col>&lt;fct&gt;</th><th scope=col>&lt;int&gt;</th></tr>\n",
       "</thead>\n",
       "<tbody>\n",
       "\t<tr><td>SEKER   </td><td>1518</td></tr>\n",
       "\t<tr><td>BARBUNYA</td><td> 998</td></tr>\n",
       "\t<tr><td>BOMBAY  </td><td> 395</td></tr>\n",
       "\t<tr><td>CALI    </td><td>1217</td></tr>\n",
       "\t<tr><td>HOROZ   </td><td>1449</td></tr>\n",
       "\t<tr><td>SIRA    </td><td>1981</td></tr>\n",
       "\t<tr><td>DERMASON</td><td>2649</td></tr>\n",
       "</tbody>\n",
       "</table>\n"
      ],
      "text/latex": [
       "A tibble: 7 × 2\n",
       "\\begin{tabular}{ll}\n",
       " Class & count\\\\\n",
       " <fct> & <int>\\\\\n",
       "\\hline\n",
       "\t SEKER    & 1518\\\\\n",
       "\t BARBUNYA &  998\\\\\n",
       "\t BOMBAY   &  395\\\\\n",
       "\t CALI     & 1217\\\\\n",
       "\t HOROZ    & 1449\\\\\n",
       "\t SIRA     & 1981\\\\\n",
       "\t DERMASON & 2649\\\\\n",
       "\\end{tabular}\n"
      ],
      "text/markdown": [
       "\n",
       "A tibble: 7 × 2\n",
       "\n",
       "| Class &lt;fct&gt; | count &lt;int&gt; |\n",
       "|---|---|\n",
       "| SEKER    | 1518 |\n",
       "| BARBUNYA |  998 |\n",
       "| BOMBAY   |  395 |\n",
       "| CALI     | 1217 |\n",
       "| HOROZ    | 1449 |\n",
       "| SIRA     | 1981 |\n",
       "| DERMASON | 2649 |\n",
       "\n"
      ],
      "text/plain": [
       "  Class    count\n",
       "1 SEKER    1518 \n",
       "2 BARBUNYA  998 \n",
       "3 BOMBAY    395 \n",
       "4 CALI     1217 \n",
       "5 HOROZ    1449 \n",
       "6 SIRA     1981 \n",
       "7 DERMASON 2649 "
      ]
     },
     "metadata": {},
     "output_type": "display_data"
    }
   ],
   "source": [
    "\n",
    "url <- \"https://drive.google.com/uc?export=download&id=1IPY56t7r8l2qo39Ltk_jZkA7cbihNtoU\"\n",
    "download.file(url, \"beans.xlsx\")\n",
    "beans_data <- read_excel(\"beans.xlsx\")\n",
    "beans_data <- mutate(beans_data, Class = as_factor(Class))\n",
    "beans_split <- initial_split(beans_data, prop = 0.75, strata = Class)\n",
    "beans_training <- training(beans_split)\n",
    "beans_testing <- testing(beans_split)\n",
    "new_table<- beans_training |>\n",
    "            group_by(Class) |>\n",
    "            summarize(count=n())\n",
    "new_table\n"
   ]
  },
  {
   "cell_type": "code",
   "execution_count": null,
   "id": "d9049ed1-7ed6-49b9-a65a-423a1f103887",
   "metadata": {},
   "outputs": [],
   "source": [
    "Methods:\n",
    "Explain how you will conduct either your data analysis and which variables/columns you will use. Note - you do not need to use all variables/columns that exist \n",
    "in the raw data set. In fact, that's often not a good idea. For each variable think: is this a useful variable for prediction?\n",
    "Describe at least one way that you will visualize the results"
   ]
  },
  {
   "cell_type": "code",
   "execution_count": null,
   "id": "93972c12-b0eb-43c0-a53c-d451a3753c92",
   "metadata": {},
   "outputs": [],
   "source": [
    "Expected outcomes and significance:\n",
    "What do you expect to find?\n",
    "What impact could such findings have?\n",
    "What future questions could this lead to?"
   ]
  },
  {
   "cell_type": "markdown",
   "id": "6c9e9f66-0e5d-4bb7-907e-ed7b7439153f",
   "metadata": {},
   "source": [
    "What do you expect to find?\n",
    "\n",
    "We will find which characteristics best fit the 7 different type of dry beans in order to catorgize them. We expect that each type of bean will have significant differences in features when compared to the other bean types that will allow identification of the bean type. \n",
    "\n",
    "ShapeFactor2, Minor Axis Length, and ShapeFactor1 along with EquivDiameter, Roundness and ConvexArea"
   ]
  },
  {
   "cell_type": "code",
   "execution_count": null,
   "id": "68f422a0-7d90-4102-8090-b9751f059ebc",
   "metadata": {},
   "outputs": [],
   "source": [
    "Please submit your group project proposal. Only one member of your team needs to submit. "
   ]
  }
 ],
 "metadata": {
  "kernelspec": {
   "display_name": "R",
   "language": "R",
   "name": "ir"
  },
  "language_info": {
   "codemirror_mode": "r",
   "file_extension": ".r",
   "mimetype": "text/x-r-source",
   "name": "R",
   "pygments_lexer": "r",
   "version": "4.1.3"
  }
 },
 "nbformat": 4,
 "nbformat_minor": 5
}
