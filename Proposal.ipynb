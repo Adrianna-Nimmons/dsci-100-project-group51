{
 "cells": [
  {
   "cell_type": "markdown",
   "id": "cfe3b952-2705-4d8d-8a0c-60dfae0a0253",
   "metadata": {},
   "source": [
    "Group Project Proposal"
   ]
  },
  {
   "cell_type": "code",
   "execution_count": null,
   "id": "e3656047-ebd0-4173-9d63-67b8ac1809b6",
   "metadata": {},
   "outputs": [],
   "source": []
  }
 ],
 "metadata": {
  "kernelspec": {
   "display_name": "R",
   "language": "R",
   "name": "ir"
  },
  "language_info": {
   "codemirror_mode": "r",
   "file_extension": ".r",
   "mimetype": "text/x-r-source",
   "name": "R",
   "pygments_lexer": "r",
   "version": "4.1.3"
  }
 },
 "nbformat": 4,
 "nbformat_minor": 5
}
