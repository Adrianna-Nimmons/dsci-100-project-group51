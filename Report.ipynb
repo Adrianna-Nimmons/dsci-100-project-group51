{
 "cells": [
  {
   "cell_type": "markdown",
   "id": "21836f98-24e1-4849-8484-4cbeb37f7763",
   "metadata": {},
   "source": [
    "Report"
   ]
  },
  {
   "cell_type": "code",
   "execution_count": 1,
   "id": "bf5c6888-fa50-4ae5-a9d9-183004a3c238",
   "metadata": {},
   "outputs": [
    {
     "name": "stderr",
     "output_type": "stream",
     "text": [
      "── \u001b[1mAttaching packages\u001b[22m ─────────────────────────────────────── tidyverse 1.3.1 ──\n",
      "\n",
      "\u001b[32m✔\u001b[39m \u001b[34mggplot2\u001b[39m 3.3.6     \u001b[32m✔\u001b[39m \u001b[34mpurrr  \u001b[39m 0.3.4\n",
      "\u001b[32m✔\u001b[39m \u001b[34mtibble \u001b[39m 3.1.7     \u001b[32m✔\u001b[39m \u001b[34mdplyr  \u001b[39m 1.0.9\n",
      "\u001b[32m✔\u001b[39m \u001b[34mtidyr  \u001b[39m 1.2.0     \u001b[32m✔\u001b[39m \u001b[34mstringr\u001b[39m 1.4.0\n",
      "\u001b[32m✔\u001b[39m \u001b[34mreadr  \u001b[39m 2.1.2     \u001b[32m✔\u001b[39m \u001b[34mforcats\u001b[39m 0.5.1\n",
      "\n",
      "── \u001b[1mConflicts\u001b[22m ────────────────────────────────────────── tidyverse_conflicts() ──\n",
      "\u001b[31m✖\u001b[39m \u001b[34mdplyr\u001b[39m::\u001b[32mfilter()\u001b[39m masks \u001b[34mstats\u001b[39m::filter()\n",
      "\u001b[31m✖\u001b[39m \u001b[34mdplyr\u001b[39m::\u001b[32mlag()\u001b[39m    masks \u001b[34mstats\u001b[39m::lag()\n",
      "\n",
      "── \u001b[1mAttaching packages\u001b[22m ────────────────────────────────────── tidymodels 1.0.0 ──\n",
      "\n",
      "\u001b[32m✔\u001b[39m \u001b[34mbroom       \u001b[39m 1.0.0     \u001b[32m✔\u001b[39m \u001b[34mrsample     \u001b[39m 1.0.0\n",
      "\u001b[32m✔\u001b[39m \u001b[34mdials       \u001b[39m 1.0.0     \u001b[32m✔\u001b[39m \u001b[34mtune        \u001b[39m 1.0.0\n",
      "\u001b[32m✔\u001b[39m \u001b[34minfer       \u001b[39m 1.0.2     \u001b[32m✔\u001b[39m \u001b[34mworkflows   \u001b[39m 1.0.0\n",
      "\u001b[32m✔\u001b[39m \u001b[34mmodeldata   \u001b[39m 1.0.0     \u001b[32m✔\u001b[39m \u001b[34mworkflowsets\u001b[39m 1.0.0\n",
      "\u001b[32m✔\u001b[39m \u001b[34mparsnip     \u001b[39m 1.0.0     \u001b[32m✔\u001b[39m \u001b[34myardstick   \u001b[39m 1.0.0\n",
      "\u001b[32m✔\u001b[39m \u001b[34mrecipes     \u001b[39m 1.0.1     \n",
      "\n",
      "── \u001b[1mConflicts\u001b[22m ───────────────────────────────────────── tidymodels_conflicts() ──\n",
      "\u001b[31m✖\u001b[39m \u001b[34mscales\u001b[39m::\u001b[32mdiscard()\u001b[39m masks \u001b[34mpurrr\u001b[39m::discard()\n",
      "\u001b[31m✖\u001b[39m \u001b[34mdplyr\u001b[39m::\u001b[32mfilter()\u001b[39m   masks \u001b[34mstats\u001b[39m::filter()\n",
      "\u001b[31m✖\u001b[39m \u001b[34mrecipes\u001b[39m::\u001b[32mfixed()\u001b[39m  masks \u001b[34mstringr\u001b[39m::fixed()\n",
      "\u001b[31m✖\u001b[39m \u001b[34mdplyr\u001b[39m::\u001b[32mlag()\u001b[39m      masks \u001b[34mstats\u001b[39m::lag()\n",
      "\u001b[31m✖\u001b[39m \u001b[34myardstick\u001b[39m::\u001b[32mspec()\u001b[39m masks \u001b[34mreadr\u001b[39m::spec()\n",
      "\u001b[31m✖\u001b[39m \u001b[34mrecipes\u001b[39m::\u001b[32mstep()\u001b[39m   masks \u001b[34mstats\u001b[39m::step()\n",
      "\u001b[34m•\u001b[39m Search for functions across packages at \u001b[32mhttps://www.tidymodels.org/find/\u001b[39m\n",
      "\n",
      "\n",
      "Attaching package: ‘gridExtra’\n",
      "\n",
      "\n",
      "The following object is masked from ‘package:dplyr’:\n",
      "\n",
      "    combine\n",
      "\n",
      "\n"
     ]
    }
   ],
   "source": [
    "library(tidyverse)\n",
    "library(readr)\n",
    "library(repr)\n",
    "library(tidymodels)\n",
    "library(readxl)\n",
    "library(gridExtra)\n",
    "library(RColorBrewer)\n",
    "require(gridExtra)\n",
    "options(repr.matrix.max..rows = 6)\n",
    "set.seed(99999)"
   ]
  },
  {
   "cell_type": "code",
   "execution_count": 2,
   "id": "367ac3c0-205f-4698-bcc9-28ce5fdaa5b8",
   "metadata": {},
   "outputs": [],
   "source": [
    "url <- \"https://github.com/Adrianna-Nimmons/dsci-100-project-group51/raw/main/beans.xlsx\"\n",
    "download.file(url, \"beans.xlsx\")\n",
    "beans_data <- read_excel(\"beans.xlsx\")\n",
    "beans_data <- mutate(beans_data, Class = as_factor(Class))\n",
    "\n",
    "beans_split <- initial_split(beans_data, prop = 0.75, strata = Class)\n",
    "beans_training <- training(beans_split)\n",
    "beans_testing <- testing(beans_split) \n"
   ]
  },
  {
   "cell_type": "code",
   "execution_count": 4,
   "id": "6abafc35-8b28-42b2-9f83-c9b6256b1a28",
   "metadata": {},
   "outputs": [
    {
     "data": {
      "text/html": [
       "<table class=\"dataframe\">\n",
       "<caption>A tibble: 6 × 17</caption>\n",
       "<thead>\n",
       "\t<tr><th scope=col>Area</th><th scope=col>Perimeter</th><th scope=col>MajorAxisLength</th><th scope=col>MinorAxisLength</th><th scope=col>AspectRation</th><th scope=col>Eccentricity</th><th scope=col>ConvexArea</th><th scope=col>EquivDiameter</th><th scope=col>Extent</th><th scope=col>Solidity</th><th scope=col>roundness</th><th scope=col>Compactness</th><th scope=col>ShapeFactor1</th><th scope=col>ShapeFactor2</th><th scope=col>ShapeFactor3</th><th scope=col>ShapeFactor4</th><th scope=col>Class</th></tr>\n",
       "\t<tr><th scope=col>&lt;dbl&gt;</th><th scope=col>&lt;dbl&gt;</th><th scope=col>&lt;dbl&gt;</th><th scope=col>&lt;dbl&gt;</th><th scope=col>&lt;dbl&gt;</th><th scope=col>&lt;dbl&gt;</th><th scope=col>&lt;dbl&gt;</th><th scope=col>&lt;dbl&gt;</th><th scope=col>&lt;dbl&gt;</th><th scope=col>&lt;dbl&gt;</th><th scope=col>&lt;dbl&gt;</th><th scope=col>&lt;dbl&gt;</th><th scope=col>&lt;dbl&gt;</th><th scope=col>&lt;dbl&gt;</th><th scope=col>&lt;dbl&gt;</th><th scope=col>&lt;dbl&gt;</th><th scope=col>&lt;fct&gt;</th></tr>\n",
       "</thead>\n",
       "<tbody>\n",
       "\t<tr><td>47143</td><td>858.562</td><td>296.8463</td><td>203.0587</td><td>1.461874</td><td>0.7294319</td><td>47996</td><td>244.9986</td><td>0.7179866</td><td>0.9822277</td><td>0.8036811</td><td>0.8253384</td><td>0.006296720</td><td>0.001802281</td><td>0.6811835</td><td>0.9958045</td><td>BARBUNYA</td></tr>\n",
       "\t<tr><td>48165</td><td>824.701</td><td>310.0210</td><td>198.2600</td><td>1.563709</td><td>0.7687869</td><td>48758</td><td>247.6400</td><td>0.8069056</td><td>0.9878379</td><td>0.8899147</td><td>0.7987847</td><td>0.006436645</td><td>0.001616435</td><td>0.6380569</td><td>0.9977357</td><td>BARBUNYA</td></tr>\n",
       "\t<tr><td>49166</td><td>856.332</td><td>293.7756</td><td>214.1689</td><td>1.371701</td><td>0.6844902</td><td>50168</td><td>250.2001</td><td>0.7759785</td><td>0.9800271</td><td>0.8425397</td><td>0.8516709</td><td>0.005975177</td><td>0.001939179</td><td>0.7253434</td><td>0.9949539</td><td>BARBUNYA</td></tr>\n",
       "\t<tr><td>49975</td><td>873.529</td><td>313.9997</td><td>203.9383</td><td>1.539680</td><td>0.7603739</td><td>50699</td><td>252.2502</td><td>0.7147965</td><td>0.9857196</td><td>0.8230155</td><td>0.8033453</td><td>0.006283135</td><td>0.001614229</td><td>0.6453636</td><td>0.9936534</td><td>BARBUNYA</td></tr>\n",
       "\t<tr><td>50166</td><td>893.846</td><td>313.0216</td><td>204.6558</td><td>1.529503</td><td>0.7566610</td><td>51209</td><td>252.7317</td><td>0.7625171</td><td>0.9796325</td><td>0.7890308</td><td>0.8073940</td><td>0.006239716</td><td>0.001635636</td><td>0.6518851</td><td>0.9970598</td><td>BARBUNYA</td></tr>\n",
       "\t<tr><td>50167</td><td>873.825</td><td>309.8928</td><td>206.7724</td><td>1.498715</td><td>0.7448443</td><td>50937</td><td>252.7343</td><td>0.7945989</td><td>0.9848833</td><td>0.8256178</td><td>0.8155538</td><td>0.006177225</td><td>0.001685713</td><td>0.6651280</td><td>0.9968372</td><td>BARBUNYA</td></tr>\n",
       "</tbody>\n",
       "</table>\n"
      ],
      "text/latex": [
       "A tibble: 6 × 17\n",
       "\\begin{tabular}{lllllllllllllllll}\n",
       " Area & Perimeter & MajorAxisLength & MinorAxisLength & AspectRation & Eccentricity & ConvexArea & EquivDiameter & Extent & Solidity & roundness & Compactness & ShapeFactor1 & ShapeFactor2 & ShapeFactor3 & ShapeFactor4 & Class\\\\\n",
       " <dbl> & <dbl> & <dbl> & <dbl> & <dbl> & <dbl> & <dbl> & <dbl> & <dbl> & <dbl> & <dbl> & <dbl> & <dbl> & <dbl> & <dbl> & <dbl> & <fct>\\\\\n",
       "\\hline\n",
       "\t 47143 & 858.562 & 296.8463 & 203.0587 & 1.461874 & 0.7294319 & 47996 & 244.9986 & 0.7179866 & 0.9822277 & 0.8036811 & 0.8253384 & 0.006296720 & 0.001802281 & 0.6811835 & 0.9958045 & BARBUNYA\\\\\n",
       "\t 48165 & 824.701 & 310.0210 & 198.2600 & 1.563709 & 0.7687869 & 48758 & 247.6400 & 0.8069056 & 0.9878379 & 0.8899147 & 0.7987847 & 0.006436645 & 0.001616435 & 0.6380569 & 0.9977357 & BARBUNYA\\\\\n",
       "\t 49166 & 856.332 & 293.7756 & 214.1689 & 1.371701 & 0.6844902 & 50168 & 250.2001 & 0.7759785 & 0.9800271 & 0.8425397 & 0.8516709 & 0.005975177 & 0.001939179 & 0.7253434 & 0.9949539 & BARBUNYA\\\\\n",
       "\t 49975 & 873.529 & 313.9997 & 203.9383 & 1.539680 & 0.7603739 & 50699 & 252.2502 & 0.7147965 & 0.9857196 & 0.8230155 & 0.8033453 & 0.006283135 & 0.001614229 & 0.6453636 & 0.9936534 & BARBUNYA\\\\\n",
       "\t 50166 & 893.846 & 313.0216 & 204.6558 & 1.529503 & 0.7566610 & 51209 & 252.7317 & 0.7625171 & 0.9796325 & 0.7890308 & 0.8073940 & 0.006239716 & 0.001635636 & 0.6518851 & 0.9970598 & BARBUNYA\\\\\n",
       "\t 50167 & 873.825 & 309.8928 & 206.7724 & 1.498715 & 0.7448443 & 50937 & 252.7343 & 0.7945989 & 0.9848833 & 0.8256178 & 0.8155538 & 0.006177225 & 0.001685713 & 0.6651280 & 0.9968372 & BARBUNYA\\\\\n",
       "\\end{tabular}\n"
      ],
      "text/markdown": [
       "\n",
       "A tibble: 6 × 17\n",
       "\n",
       "| Area &lt;dbl&gt; | Perimeter &lt;dbl&gt; | MajorAxisLength &lt;dbl&gt; | MinorAxisLength &lt;dbl&gt; | AspectRation &lt;dbl&gt; | Eccentricity &lt;dbl&gt; | ConvexArea &lt;dbl&gt; | EquivDiameter &lt;dbl&gt; | Extent &lt;dbl&gt; | Solidity &lt;dbl&gt; | roundness &lt;dbl&gt; | Compactness &lt;dbl&gt; | ShapeFactor1 &lt;dbl&gt; | ShapeFactor2 &lt;dbl&gt; | ShapeFactor3 &lt;dbl&gt; | ShapeFactor4 &lt;dbl&gt; | Class &lt;fct&gt; |\n",
       "|---|---|---|---|---|---|---|---|---|---|---|---|---|---|---|---|---|\n",
       "| 47143 | 858.562 | 296.8463 | 203.0587 | 1.461874 | 0.7294319 | 47996 | 244.9986 | 0.7179866 | 0.9822277 | 0.8036811 | 0.8253384 | 0.006296720 | 0.001802281 | 0.6811835 | 0.9958045 | BARBUNYA |\n",
       "| 48165 | 824.701 | 310.0210 | 198.2600 | 1.563709 | 0.7687869 | 48758 | 247.6400 | 0.8069056 | 0.9878379 | 0.8899147 | 0.7987847 | 0.006436645 | 0.001616435 | 0.6380569 | 0.9977357 | BARBUNYA |\n",
       "| 49166 | 856.332 | 293.7756 | 214.1689 | 1.371701 | 0.6844902 | 50168 | 250.2001 | 0.7759785 | 0.9800271 | 0.8425397 | 0.8516709 | 0.005975177 | 0.001939179 | 0.7253434 | 0.9949539 | BARBUNYA |\n",
       "| 49975 | 873.529 | 313.9997 | 203.9383 | 1.539680 | 0.7603739 | 50699 | 252.2502 | 0.7147965 | 0.9857196 | 0.8230155 | 0.8033453 | 0.006283135 | 0.001614229 | 0.6453636 | 0.9936534 | BARBUNYA |\n",
       "| 50166 | 893.846 | 313.0216 | 204.6558 | 1.529503 | 0.7566610 | 51209 | 252.7317 | 0.7625171 | 0.9796325 | 0.7890308 | 0.8073940 | 0.006239716 | 0.001635636 | 0.6518851 | 0.9970598 | BARBUNYA |\n",
       "| 50167 | 873.825 | 309.8928 | 206.7724 | 1.498715 | 0.7448443 | 50937 | 252.7343 | 0.7945989 | 0.9848833 | 0.8256178 | 0.8155538 | 0.006177225 | 0.001685713 | 0.6651280 | 0.9968372 | BARBUNYA |\n",
       "\n"
      ],
      "text/plain": [
       "  Area  Perimeter MajorAxisLength MinorAxisLength AspectRation Eccentricity\n",
       "1 47143 858.562   296.8463        203.0587        1.461874     0.7294319   \n",
       "2 48165 824.701   310.0210        198.2600        1.563709     0.7687869   \n",
       "3 49166 856.332   293.7756        214.1689        1.371701     0.6844902   \n",
       "4 49975 873.529   313.9997        203.9383        1.539680     0.7603739   \n",
       "5 50166 893.846   313.0216        204.6558        1.529503     0.7566610   \n",
       "6 50167 873.825   309.8928        206.7724        1.498715     0.7448443   \n",
       "  ConvexArea EquivDiameter Extent    Solidity  roundness Compactness\n",
       "1 47996      244.9986      0.7179866 0.9822277 0.8036811 0.8253384  \n",
       "2 48758      247.6400      0.8069056 0.9878379 0.8899147 0.7987847  \n",
       "3 50168      250.2001      0.7759785 0.9800271 0.8425397 0.8516709  \n",
       "4 50699      252.2502      0.7147965 0.9857196 0.8230155 0.8033453  \n",
       "5 51209      252.7317      0.7625171 0.9796325 0.7890308 0.8073940  \n",
       "6 50937      252.7343      0.7945989 0.9848833 0.8256178 0.8155538  \n",
       "  ShapeFactor1 ShapeFactor2 ShapeFactor3 ShapeFactor4 Class   \n",
       "1 0.006296720  0.001802281  0.6811835    0.9958045    BARBUNYA\n",
       "2 0.006436645  0.001616435  0.6380569    0.9977357    BARBUNYA\n",
       "3 0.005975177  0.001939179  0.7253434    0.9949539    BARBUNYA\n",
       "4 0.006283135  0.001614229  0.6453636    0.9936534    BARBUNYA\n",
       "5 0.006239716  0.001635636  0.6518851    0.9970598    BARBUNYA\n",
       "6 0.006177225  0.001685713  0.6651280    0.9968372    BARBUNYA"
      ]
     },
     "metadata": {},
     "output_type": "display_data"
    }
   ],
   "source": [
    "head(beans_training)"
   ]
  },
  {
   "cell_type": "code",
   "execution_count": 8,
   "id": "a30464d6-fe4b-4183-92a3-e8767b9b16b9",
   "metadata": {},
   "outputs": [
    {
     "data": {
      "text/html": [
       "<table class=\"dataframe\">\n",
       "<caption>A tibble: 10 × 7</caption>\n",
       "<thead>\n",
       "\t<tr><th scope=col>neighbors</th><th scope=col>.metric</th><th scope=col>.estimator</th><th scope=col>mean</th><th scope=col>n</th><th scope=col>std_err</th><th scope=col>.config</th></tr>\n",
       "\t<tr><th scope=col>&lt;dbl&gt;</th><th scope=col>&lt;chr&gt;</th><th scope=col>&lt;chr&gt;</th><th scope=col>&lt;dbl&gt;</th><th scope=col>&lt;int&gt;</th><th scope=col>&lt;dbl&gt;</th><th scope=col>&lt;chr&gt;</th></tr>\n",
       "</thead>\n",
       "<tbody>\n",
       "\t<tr><td> 2</td><td>accuracy</td><td>multiclass</td><td>0.8865386</td><td>6</td><td>0.005484183</td><td>Preprocessor1_Model01</td></tr>\n",
       "\t<tr><td> 4</td><td>accuracy</td><td>multiclass</td><td>0.9064295</td><td>6</td><td>0.003310158</td><td>Preprocessor1_Model02</td></tr>\n",
       "\t<tr><td> 6</td><td>accuracy</td><td>multiclass</td><td>0.9110352</td><td>6</td><td>0.003187536</td><td>Preprocessor1_Model03</td></tr>\n",
       "\t<tr><td> 8</td><td>accuracy</td><td>multiclass</td><td>0.9122091</td><td>6</td><td>0.003471618</td><td>Preprocessor1_Model04</td></tr>\n",
       "\t<tr><td>10</td><td>accuracy</td><td>multiclass</td><td>0.9134828</td><td>6</td><td>0.003015907</td><td>Preprocessor1_Model05</td></tr>\n",
       "\t<tr><td>12</td><td>accuracy</td><td>multiclass</td><td>0.9156387</td><td>6</td><td>0.003113349</td><td>Preprocessor1_Model06</td></tr>\n",
       "\t<tr><td>14</td><td>accuracy</td><td>multiclass</td><td>0.9141693</td><td>6</td><td>0.002940932</td><td>Preprocessor1_Model07</td></tr>\n",
       "\t<tr><td>16</td><td>accuracy</td><td>multiclass</td><td>0.9137773</td><td>6</td><td>0.003608597</td><td>Preprocessor1_Model08</td></tr>\n",
       "\t<tr><td>18</td><td>accuracy</td><td>multiclass</td><td>0.9142671</td><td>6</td><td>0.002815534</td><td>Preprocessor1_Model09</td></tr>\n",
       "\t<tr><td>20</td><td>accuracy</td><td>multiclass</td><td>0.9136785</td><td>6</td><td>0.003144170</td><td>Preprocessor1_Model10</td></tr>\n",
       "</tbody>\n",
       "</table>\n"
      ],
      "text/latex": [
       "A tibble: 10 × 7\n",
       "\\begin{tabular}{lllllll}\n",
       " neighbors & .metric & .estimator & mean & n & std\\_err & .config\\\\\n",
       " <dbl> & <chr> & <chr> & <dbl> & <int> & <dbl> & <chr>\\\\\n",
       "\\hline\n",
       "\t  2 & accuracy & multiclass & 0.8865386 & 6 & 0.005484183 & Preprocessor1\\_Model01\\\\\n",
       "\t  4 & accuracy & multiclass & 0.9064295 & 6 & 0.003310158 & Preprocessor1\\_Model02\\\\\n",
       "\t  6 & accuracy & multiclass & 0.9110352 & 6 & 0.003187536 & Preprocessor1\\_Model03\\\\\n",
       "\t  8 & accuracy & multiclass & 0.9122091 & 6 & 0.003471618 & Preprocessor1\\_Model04\\\\\n",
       "\t 10 & accuracy & multiclass & 0.9134828 & 6 & 0.003015907 & Preprocessor1\\_Model05\\\\\n",
       "\t 12 & accuracy & multiclass & 0.9156387 & 6 & 0.003113349 & Preprocessor1\\_Model06\\\\\n",
       "\t 14 & accuracy & multiclass & 0.9141693 & 6 & 0.002940932 & Preprocessor1\\_Model07\\\\\n",
       "\t 16 & accuracy & multiclass & 0.9137773 & 6 & 0.003608597 & Preprocessor1\\_Model08\\\\\n",
       "\t 18 & accuracy & multiclass & 0.9142671 & 6 & 0.002815534 & Preprocessor1\\_Model09\\\\\n",
       "\t 20 & accuracy & multiclass & 0.9136785 & 6 & 0.003144170 & Preprocessor1\\_Model10\\\\\n",
       "\\end{tabular}\n"
      ],
      "text/markdown": [
       "\n",
       "A tibble: 10 × 7\n",
       "\n",
       "| neighbors &lt;dbl&gt; | .metric &lt;chr&gt; | .estimator &lt;chr&gt; | mean &lt;dbl&gt; | n &lt;int&gt; | std_err &lt;dbl&gt; | .config &lt;chr&gt; |\n",
       "|---|---|---|---|---|---|---|\n",
       "|  2 | accuracy | multiclass | 0.8865386 | 6 | 0.005484183 | Preprocessor1_Model01 |\n",
       "|  4 | accuracy | multiclass | 0.9064295 | 6 | 0.003310158 | Preprocessor1_Model02 |\n",
       "|  6 | accuracy | multiclass | 0.9110352 | 6 | 0.003187536 | Preprocessor1_Model03 |\n",
       "|  8 | accuracy | multiclass | 0.9122091 | 6 | 0.003471618 | Preprocessor1_Model04 |\n",
       "| 10 | accuracy | multiclass | 0.9134828 | 6 | 0.003015907 | Preprocessor1_Model05 |\n",
       "| 12 | accuracy | multiclass | 0.9156387 | 6 | 0.003113349 | Preprocessor1_Model06 |\n",
       "| 14 | accuracy | multiclass | 0.9141693 | 6 | 0.002940932 | Preprocessor1_Model07 |\n",
       "| 16 | accuracy | multiclass | 0.9137773 | 6 | 0.003608597 | Preprocessor1_Model08 |\n",
       "| 18 | accuracy | multiclass | 0.9142671 | 6 | 0.002815534 | Preprocessor1_Model09 |\n",
       "| 20 | accuracy | multiclass | 0.9136785 | 6 | 0.003144170 | Preprocessor1_Model10 |\n",
       "\n"
      ],
      "text/plain": [
       "   neighbors .metric  .estimator mean      n std_err     .config              \n",
       "1   2        accuracy multiclass 0.8865386 6 0.005484183 Preprocessor1_Model01\n",
       "2   4        accuracy multiclass 0.9064295 6 0.003310158 Preprocessor1_Model02\n",
       "3   6        accuracy multiclass 0.9110352 6 0.003187536 Preprocessor1_Model03\n",
       "4   8        accuracy multiclass 0.9122091 6 0.003471618 Preprocessor1_Model04\n",
       "5  10        accuracy multiclass 0.9134828 6 0.003015907 Preprocessor1_Model05\n",
       "6  12        accuracy multiclass 0.9156387 6 0.003113349 Preprocessor1_Model06\n",
       "7  14        accuracy multiclass 0.9141693 6 0.002940932 Preprocessor1_Model07\n",
       "8  16        accuracy multiclass 0.9137773 6 0.003608597 Preprocessor1_Model08\n",
       "9  18        accuracy multiclass 0.9142671 6 0.002815534 Preprocessor1_Model09\n",
       "10 20        accuracy multiclass 0.9136785 6 0.003144170 Preprocessor1_Model10"
      ]
     },
     "metadata": {},
     "output_type": "display_data"
    }
   ],
   "source": [
    "knn_spec <- nearest_neighbor(weight_func=\"rectangular\", neighbors = tune() ) |>\n",
    "        set_engine(\"kknn\") |>\n",
    "        set_mode(\"classification\")\n",
    "beans_training_variables <- beans_training |>\n",
    "                            select(Class,MinorAxisLength,ConvexArea,EquivDiameter,roundness,ShapeFactor1, ShapeFactor2)\n",
    "knn_recipe<- recipe(Class~., data=beans_training_variables) |>\n",
    "            step_scale(all_predictors()) |>\n",
    "            step_center(all_predictors())\n",
    "\n",
    "kvals<-tibble(neighbors= seq(from = 2, to =20 , by= 2))\n",
    "# kvals\n",
    "# knn_recipe\n",
    "# knn_spec\n",
    "beans_vfold <- vfold_cv(beans_training_variables, v=6 , strata=Class)\n",
    "knn_results <- workflow() |>\n",
    "  add_recipe(knn_recipe) |>\n",
    "  add_model(knn_spec) |>\n",
    "  tune_grid(resamples = beans_vfold, grid = kvals) |>\n",
    "  collect_metrics() \n",
    "\n",
    "accuracies <- knn_results |>\n",
    "  filter(.metric == \"accuracy\")\n",
    "\n",
    "accuracies\n"
   ]
  },
  {
   "cell_type": "code",
   "execution_count": 9,
   "id": "71f63f67-5b27-4c55-93ac-ddbfc8172e61",
   "metadata": {},
   "outputs": [
    {
     "data": {
      "image/png": "[encoded data removed]",
      "text/plain": [
       "plot without title"
      ]
     },
     "metadata": {
      "image/png": {
       "height": 420,
       "width": 420
      }
     },
     "output_type": "display_data"
    }
   ],
   "source": [
    "accuracy_vs_k <- ggplot(accuracies, aes(x = neighbors, y = mean)) +\n",
    "  geom_point() +\n",
    "  geom_line() +\n",
    "  labs(x = \"Neighbors\", y = \"Accuracy Estimate\") + \n",
    "  theme(text = element_text(size = 12))\n",
    "\n",
    "accuracy_vs_k\n"
   ]
  },
  {
   "cell_type": "code",
   "execution_count": 15,
   "id": "283a1a6f-fd6d-43bc-b672-e4721039000f",
   "metadata": {},
   "outputs": [
    {
     "data": {
      "text/html": [
       "<table class=\"dataframe\">\n",
       "<caption>A tibble: 6 × 7</caption>\n",
       "<thead>\n",
       "\t<tr><th scope=col>Class</th><th scope=col>MinorAxisLength</th><th scope=col>ConvexArea</th><th scope=col>EquivDiameter</th><th scope=col>roundness</th><th scope=col>ShapeFactor1</th><th scope=col>ShapeFactor2</th></tr>\n",
       "\t<tr><th scope=col>&lt;fct&gt;</th><th scope=col>&lt;dbl&gt;</th><th scope=col>&lt;dbl&gt;</th><th scope=col>&lt;dbl&gt;</th><th scope=col>&lt;dbl&gt;</th><th scope=col>&lt;dbl&gt;</th><th scope=col>&lt;dbl&gt;</th></tr>\n",
       "</thead>\n",
       "<tbody>\n",
       "\t<tr><td>SEKER</td><td>182.7344</td><td>29172</td><td>191.2728</td><td>0.8870336</td><td>0.006978659</td><td>0.003563624</td></tr>\n",
       "\t<tr><td>SEKER</td><td>183.1571</td><td>31044</td><td>197.6597</td><td>0.9542398</td><td>0.006958910</td><td>0.003151550</td></tr>\n",
       "\t<tr><td>SEKER</td><td>184.8749</td><td>31558</td><td>199.3211</td><td>0.9579485</td><td>0.006892534</td><td>0.003136682</td></tr>\n",
       "\t<tr><td>SEKER</td><td>184.1634</td><td>31599</td><td>199.7422</td><td>0.9765108</td><td>0.006918465</td><td>0.003075469</td></tr>\n",
       "\t<tr><td>SEKER</td><td>180.9171</td><td>32052</td><td>201.2536</td><td>0.9696001</td><td>0.007041108</td><td>0.002830886</td></tr>\n",
       "\t<tr><td>SEKER</td><td>181.9409</td><td>32308</td><td>201.9704</td><td>0.9674786</td><td>0.007006752</td><td>0.002832168</td></tr>\n",
       "</tbody>\n",
       "</table>\n"
      ],
      "text/latex": [
       "A tibble: 6 × 7\n",
       "\\begin{tabular}{lllllll}\n",
       " Class & MinorAxisLength & ConvexArea & EquivDiameter & roundness & ShapeFactor1 & ShapeFactor2\\\\\n",
       " <fct> & <dbl> & <dbl> & <dbl> & <dbl> & <dbl> & <dbl>\\\\\n",
       "\\hline\n",
       "\t SEKER & 182.7344 & 29172 & 191.2728 & 0.8870336 & 0.006978659 & 0.003563624\\\\\n",
       "\t SEKER & 183.1571 & 31044 & 197.6597 & 0.9542398 & 0.006958910 & 0.003151550\\\\\n",
       "\t SEKER & 184.8749 & 31558 & 199.3211 & 0.9579485 & 0.006892534 & 0.003136682\\\\\n",
       "\t SEKER & 184.1634 & 31599 & 199.7422 & 0.9765108 & 0.006918465 & 0.003075469\\\\\n",
       "\t SEKER & 180.9171 & 32052 & 201.2536 & 0.9696001 & 0.007041108 & 0.002830886\\\\\n",
       "\t SEKER & 181.9409 & 32308 & 201.9704 & 0.9674786 & 0.007006752 & 0.002832168\\\\\n",
       "\\end{tabular}\n"
      ],
      "text/markdown": [
       "\n",
       "A tibble: 6 × 7\n",
       "\n",
       "| Class &lt;fct&gt; | MinorAxisLength &lt;dbl&gt; | ConvexArea &lt;dbl&gt; | EquivDiameter &lt;dbl&gt; | roundness &lt;dbl&gt; | ShapeFactor1 &lt;dbl&gt; | ShapeFactor2 &lt;dbl&gt; |\n",
       "|---|---|---|---|---|---|---|\n",
       "| SEKER | 182.7344 | 29172 | 191.2728 | 0.8870336 | 0.006978659 | 0.003563624 |\n",
       "| SEKER | 183.1571 | 31044 | 197.6597 | 0.9542398 | 0.006958910 | 0.003151550 |\n",
       "| SEKER | 184.8749 | 31558 | 199.3211 | 0.9579485 | 0.006892534 | 0.003136682 |\n",
       "| SEKER | 184.1634 | 31599 | 199.7422 | 0.9765108 | 0.006918465 | 0.003075469 |\n",
       "| SEKER | 180.9171 | 32052 | 201.2536 | 0.9696001 | 0.007041108 | 0.002830886 |\n",
       "| SEKER | 181.9409 | 32308 | 201.9704 | 0.9674786 | 0.007006752 | 0.002832168 |\n",
       "\n"
      ],
      "text/plain": [
       "  Class MinorAxisLength ConvexArea EquivDiameter roundness ShapeFactor1\n",
       "1 SEKER 182.7344        29172      191.2728      0.8870336 0.006978659 \n",
       "2 SEKER 183.1571        31044      197.6597      0.9542398 0.006958910 \n",
       "3 SEKER 184.8749        31558      199.3211      0.9579485 0.006892534 \n",
       "4 SEKER 184.1634        31599      199.7422      0.9765108 0.006918465 \n",
       "5 SEKER 180.9171        32052      201.2536      0.9696001 0.007041108 \n",
       "6 SEKER 181.9409        32308      201.9704      0.9674786 0.007006752 \n",
       "  ShapeFactor2\n",
       "1 0.003563624 \n",
       "2 0.003151550 \n",
       "3 0.003136682 \n",
       "4 0.003075469 \n",
       "5 0.002830886 \n",
       "6 0.002832168 "
      ]
     },
     "metadata": {},
     "output_type": "display_data"
    }
   ],
   "source": [
    "beans_testing_variables <-  beans_testing |>\n",
    "                            select(Class,MinorAxisLength,ConvexArea,EquivDiameter,roundness,ShapeFactor1, ShapeFactor2)\n",
    "head(beans_testing_variables)"
   ]
  },
  {
   "cell_type": "code",
   "execution_count": 18,
   "id": "adde6c64-066b-4cfc-9b63-046dabe1e321",
   "metadata": {},
   "outputs": [
    {
     "data": {
      "text/html": [
       "<table class=\"dataframe\">\n",
       "<caption>A tibble: 6 × 8</caption>\n",
       "<thead>\n",
       "\t<tr><th scope=col>.pred_class</th><th scope=col>Class</th><th scope=col>MinorAxisLength</th><th scope=col>ConvexArea</th><th scope=col>EquivDiameter</th><th scope=col>roundness</th><th scope=col>ShapeFactor1</th><th scope=col>ShapeFactor2</th></tr>\n",
       "\t<tr><th scope=col>&lt;fct&gt;</th><th scope=col>&lt;fct&gt;</th><th scope=col>&lt;dbl&gt;</th><th scope=col>&lt;dbl&gt;</th><th scope=col>&lt;dbl&gt;</th><th scope=col>&lt;dbl&gt;</th><th scope=col>&lt;dbl&gt;</th><th scope=col>&lt;dbl&gt;</th></tr>\n",
       "</thead>\n",
       "<tbody>\n",
       "\t<tr><td>SEKER</td><td>SEKER</td><td>182.7344</td><td>29172</td><td>191.2728</td><td>0.8870336</td><td>0.006978659</td><td>0.003563624</td></tr>\n",
       "\t<tr><td>SEKER</td><td>SEKER</td><td>183.1571</td><td>31044</td><td>197.6597</td><td>0.9542398</td><td>0.006958910</td><td>0.003151550</td></tr>\n",
       "\t<tr><td>SEKER</td><td>SEKER</td><td>184.8749</td><td>31558</td><td>199.3211</td><td>0.9579485</td><td>0.006892534</td><td>0.003136682</td></tr>\n",
       "\t<tr><td>SEKER</td><td>SEKER</td><td>184.1634</td><td>31599</td><td>199.7422</td><td>0.9765108</td><td>0.006918465</td><td>0.003075469</td></tr>\n",
       "\t<tr><td>SEKER</td><td>SEKER</td><td>180.9171</td><td>32052</td><td>201.2536</td><td>0.9696001</td><td>0.007041108</td><td>0.002830886</td></tr>\n",
       "\t<tr><td>SEKER</td><td>SEKER</td><td>181.9409</td><td>32308</td><td>201.9704</td><td>0.9674786</td><td>0.007006752</td><td>0.002832168</td></tr>\n",
       "</tbody>\n",
       "</table>\n"
      ],
      "text/latex": [
       "A tibble: 6 × 8\n",
       "\\begin{tabular}{llllllll}\n",
       " .pred\\_class & Class & MinorAxisLength & ConvexArea & EquivDiameter & roundness & ShapeFactor1 & ShapeFactor2\\\\\n",
       " <fct> & <fct> & <dbl> & <dbl> & <dbl> & <dbl> & <dbl> & <dbl>\\\\\n",
       "\\hline\n",
       "\t SEKER & SEKER & 182.7344 & 29172 & 191.2728 & 0.8870336 & 0.006978659 & 0.003563624\\\\\n",
       "\t SEKER & SEKER & 183.1571 & 31044 & 197.6597 & 0.9542398 & 0.006958910 & 0.003151550\\\\\n",
       "\t SEKER & SEKER & 184.8749 & 31558 & 199.3211 & 0.9579485 & 0.006892534 & 0.003136682\\\\\n",
       "\t SEKER & SEKER & 184.1634 & 31599 & 199.7422 & 0.9765108 & 0.006918465 & 0.003075469\\\\\n",
       "\t SEKER & SEKER & 180.9171 & 32052 & 201.2536 & 0.9696001 & 0.007041108 & 0.002830886\\\\\n",
       "\t SEKER & SEKER & 181.9409 & 32308 & 201.9704 & 0.9674786 & 0.007006752 & 0.002832168\\\\\n",
       "\\end{tabular}\n"
      ],
      "text/markdown": [
       "\n",
       "A tibble: 6 × 8\n",
       "\n",
       "| .pred_class &lt;fct&gt; | Class &lt;fct&gt; | MinorAxisLength &lt;dbl&gt; | ConvexArea &lt;dbl&gt; | EquivDiameter &lt;dbl&gt; | roundness &lt;dbl&gt; | ShapeFactor1 &lt;dbl&gt; | ShapeFactor2 &lt;dbl&gt; |\n",
       "|---|---|---|---|---|---|---|---|\n",
       "| SEKER | SEKER | 182.7344 | 29172 | 191.2728 | 0.8870336 | 0.006978659 | 0.003563624 |\n",
       "| SEKER | SEKER | 183.1571 | 31044 | 197.6597 | 0.9542398 | 0.006958910 | 0.003151550 |\n",
       "| SEKER | SEKER | 184.8749 | 31558 | 199.3211 | 0.9579485 | 0.006892534 | 0.003136682 |\n",
       "| SEKER | SEKER | 184.1634 | 31599 | 199.7422 | 0.9765108 | 0.006918465 | 0.003075469 |\n",
       "| SEKER | SEKER | 180.9171 | 32052 | 201.2536 | 0.9696001 | 0.007041108 | 0.002830886 |\n",
       "| SEKER | SEKER | 181.9409 | 32308 | 201.9704 | 0.9674786 | 0.007006752 | 0.002832168 |\n",
       "\n"
      ],
      "text/plain": [
       "  .pred_class Class MinorAxisLength ConvexArea EquivDiameter roundness\n",
       "1 SEKER       SEKER 182.7344        29172      191.2728      0.8870336\n",
       "2 SEKER       SEKER 183.1571        31044      197.6597      0.9542398\n",
       "3 SEKER       SEKER 184.8749        31558      199.3211      0.9579485\n",
       "4 SEKER       SEKER 184.1634        31599      199.7422      0.9765108\n",
       "5 SEKER       SEKER 180.9171        32052      201.2536      0.9696001\n",
       "6 SEKER       SEKER 181.9409        32308      201.9704      0.9674786\n",
       "  ShapeFactor1 ShapeFactor2\n",
       "1 0.006978659  0.003563624 \n",
       "2 0.006958910  0.003151550 \n",
       "3 0.006892534  0.003136682 \n",
       "4 0.006918465  0.003075469 \n",
       "5 0.007041108  0.002830886 \n",
       "6 0.007006752  0.002832168 "
      ]
     },
     "metadata": {},
     "output_type": "display_data"
    }
   ],
   "source": [
    "k<-12\n",
    "beans_spec <- nearest_neighbor(weight_func=\"rectangular\", neighbors = k ) |>\n",
    "        set_engine(\"kknn\") |>\n",
    "        set_mode(\"classification\")\n",
    "# beans_spec\n",
    "beans_fit<-workflow()|>\n",
    "            add_recipe(knn_recipe) |>\n",
    "            add_model(beans_spec) |>\n",
    "            fit(data=beans_training_variables)\n",
    "beans_predict<- predict(beans_fit, beans_testing_variables) |>\n",
    "                bind_cols(beans_testing_variables)\n",
    "head(beans_predict)      \n"
   ]
  },
  {
   "cell_type": "code",
   "execution_count": 22,
   "id": "462567e6-5196-4617-a069-ca6bfdac081c",
   "metadata": {},
   "outputs": [
    {
     "data": {
      "text/html": [
       "<table class=\"dataframe\">\n",
       "<caption>A tibble: 2 × 3</caption>\n",
       "<thead>\n",
       "\t<tr><th scope=col>.metric</th><th scope=col>.estimator</th><th scope=col>.estimate</th></tr>\n",
       "\t<tr><th scope=col>&lt;chr&gt;</th><th scope=col>&lt;chr&gt;</th><th scope=col>&lt;dbl&gt;</th></tr>\n",
       "</thead>\n",
       "<tbody>\n",
       "\t<tr><td>accuracy</td><td>multiclass</td><td>0.9162996</td></tr>\n",
       "\t<tr><td>kap     </td><td>multiclass</td><td>0.8988109</td></tr>\n",
       "</tbody>\n",
       "</table>\n"
      ],
      "text/latex": [
       "A tibble: 2 × 3\n",
       "\\begin{tabular}{lll}\n",
       " .metric & .estimator & .estimate\\\\\n",
       " <chr> & <chr> & <dbl>\\\\\n",
       "\\hline\n",
       "\t accuracy & multiclass & 0.9162996\\\\\n",
       "\t kap      & multiclass & 0.8988109\\\\\n",
       "\\end{tabular}\n"
      ],
      "text/markdown": [
       "\n",
       "A tibble: 2 × 3\n",
       "\n",
       "| .metric &lt;chr&gt; | .estimator &lt;chr&gt; | .estimate &lt;dbl&gt; |\n",
       "|---|---|---|\n",
       "| accuracy | multiclass | 0.9162996 |\n",
       "| kap      | multiclass | 0.8988109 |\n",
       "\n"
      ],
      "text/plain": [
       "  .metric  .estimator .estimate\n",
       "1 accuracy multiclass 0.9162996\n",
       "2 kap      multiclass 0.8988109"
      ]
     },
     "metadata": {},
     "output_type": "display_data"
    },
    {
     "data": {
      "text/plain": [
       "          Truth\n",
       "Prediction SEKER BARBUNYA BOMBAY CALI HOROZ SIRA DERMASON\n",
       "  SEKER      481        2      0    1     0    9       12\n",
       "  BARBUNYA     3      292      0    8     1    1        0\n",
       "  BOMBAY       0        0    128    0     0    0        0\n",
       "  CALI         0       35      0  387    10    2        0\n",
       "  HOROZ        0        5      0    7   465   14        3\n",
       "  SIRA        14        6      0    5    11  552       57\n",
       "  DERMASON    10        0      0    0     5   64      815"
      ]
     },
     "metadata": {},
     "output_type": "display_data"
    }
   ],
   "source": [
    "accuracy<- beans_predict |>\n",
    "            metrics(truth=Class, estimate=.pred_class)\n",
    "accuracy\n",
    "conf <- beans_predict |>\n",
    "        conf_mat(truth=Class, estimate=.pred_class)\n",
    "conf"
   ]
  },
  {
   "cell_type": "code",
   "execution_count": null,
   "id": "edfedb57-1784-4f1c-8a21-24ddd5a3929d",
   "metadata": {},
   "outputs": [],
   "source": []
  }
 ],
 "metadata": {
  "kernelspec": {
   "display_name": "R",
   "language": "R",
   "name": "ir"
  },
  "language_info": {
   "codemirror_mode": "r",
   "file_extension": ".r",
   "mimetype": "text/x-r-source",
   "name": "R",
   "pygments_lexer": "r",
   "version": "4.1.3"
  }
 },
 "nbformat": 4,
 "nbformat_minor": 5
}
